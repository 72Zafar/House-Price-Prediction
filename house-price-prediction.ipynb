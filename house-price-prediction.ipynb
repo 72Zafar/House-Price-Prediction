{
 "cells": [
  {
   "cell_type": "code",
   "execution_count": 2,
   "id": "8fb69ff4",
   "metadata": {
    "execution": {
     "iopub.execute_input": "2024-09-22T12:33:13.596228Z",
     "iopub.status.busy": "2024-09-22T12:33:13.595198Z",
     "iopub.status.idle": "2024-09-22T12:33:15.170405Z",
     "shell.execute_reply": "2024-09-22T12:33:15.169351Z"
    },
    "papermill": {
     "duration": 1.587264,
     "end_time": "2024-09-22T12:33:15.172825",
     "exception": false,
     "start_time": "2024-09-22T12:33:13.585561",
     "status": "completed"
    },
    "tags": []
   },
   "outputs": [],
   "source": [
    "import pandas as pd \n",
    "import numpy as np \n",
    "import seaborn as sns\n",
    "import matplotlib.pyplot as plt"
   ]
  },
  {
   "cell_type": "code",
   "execution_count": 3,
   "id": "383013e8",
   "metadata": {
    "execution": {
     "iopub.execute_input": "2024-09-22T12:33:15.192167Z",
     "iopub.status.busy": "2024-09-22T12:33:15.191265Z",
     "iopub.status.idle": "2024-09-22T12:33:15.211725Z",
     "shell.execute_reply": "2024-09-22T12:33:15.210700Z"
    },
    "papermill": {
     "duration": 0.032729,
     "end_time": "2024-09-22T12:33:15.214243",
     "exception": false,
     "start_time": "2024-09-22T12:33:15.181514",
     "status": "completed"
    },
    "tags": []
   },
   "outputs": [],
   "source": [
    "df = pd.read_csv(r\"/kaggle/input/house-price-prediction-dataset/House Price Prediction Dataset.csv\")"
   ]
  },
  {
   "cell_type": "code",
   "execution_count": 4,
   "id": "672be33d",
   "metadata": {
    "execution": {
     "iopub.execute_input": "2024-09-22T12:33:15.232938Z",
     "iopub.status.busy": "2024-09-22T12:33:15.232253Z",
     "iopub.status.idle": "2024-09-22T12:33:15.254648Z",
     "shell.execute_reply": "2024-09-22T12:33:15.253664Z"
    },
    "papermill": {
     "duration": 0.034196,
     "end_time": "2024-09-22T12:33:15.256827",
     "exception": false,
     "start_time": "2024-09-22T12:33:15.222631",
     "status": "completed"
    },
    "tags": []
   },
   "outputs": [
    {
     "data": {
      "text/html": [
       "<div>\n",
       "<style scoped>\n",
       "    .dataframe tbody tr th:only-of-type {\n",
       "        vertical-align: middle;\n",
       "    }\n",
       "\n",
       "    .dataframe tbody tr th {\n",
       "        vertical-align: top;\n",
       "    }\n",
       "\n",
       "    .dataframe thead th {\n",
       "        text-align: right;\n",
       "    }\n",
       "</style>\n",
       "<table border=\"1\" class=\"dataframe\">\n",
       "  <thead>\n",
       "    <tr style=\"text-align: right;\">\n",
       "      <th></th>\n",
       "      <th>Id</th>\n",
       "      <th>Area</th>\n",
       "      <th>Bedrooms</th>\n",
       "      <th>Bathrooms</th>\n",
       "      <th>Floors</th>\n",
       "      <th>YearBuilt</th>\n",
       "      <th>Location</th>\n",
       "      <th>Condition</th>\n",
       "      <th>Garage</th>\n",
       "      <th>Price</th>\n",
       "    </tr>\n",
       "  </thead>\n",
       "  <tbody>\n",
       "    <tr>\n",
       "      <th>0</th>\n",
       "      <td>1</td>\n",
       "      <td>1360</td>\n",
       "      <td>5</td>\n",
       "      <td>4</td>\n",
       "      <td>3</td>\n",
       "      <td>1970</td>\n",
       "      <td>Downtown</td>\n",
       "      <td>Excellent</td>\n",
       "      <td>No</td>\n",
       "      <td>149919</td>\n",
       "    </tr>\n",
       "    <tr>\n",
       "      <th>1</th>\n",
       "      <td>2</td>\n",
       "      <td>4272</td>\n",
       "      <td>5</td>\n",
       "      <td>4</td>\n",
       "      <td>3</td>\n",
       "      <td>1958</td>\n",
       "      <td>Downtown</td>\n",
       "      <td>Excellent</td>\n",
       "      <td>No</td>\n",
       "      <td>424998</td>\n",
       "    </tr>\n",
       "    <tr>\n",
       "      <th>2</th>\n",
       "      <td>3</td>\n",
       "      <td>3592</td>\n",
       "      <td>2</td>\n",
       "      <td>2</td>\n",
       "      <td>3</td>\n",
       "      <td>1938</td>\n",
       "      <td>Downtown</td>\n",
       "      <td>Good</td>\n",
       "      <td>No</td>\n",
       "      <td>266746</td>\n",
       "    </tr>\n",
       "    <tr>\n",
       "      <th>3</th>\n",
       "      <td>4</td>\n",
       "      <td>966</td>\n",
       "      <td>4</td>\n",
       "      <td>2</td>\n",
       "      <td>2</td>\n",
       "      <td>1902</td>\n",
       "      <td>Suburban</td>\n",
       "      <td>Fair</td>\n",
       "      <td>Yes</td>\n",
       "      <td>244020</td>\n",
       "    </tr>\n",
       "    <tr>\n",
       "      <th>4</th>\n",
       "      <td>5</td>\n",
       "      <td>4926</td>\n",
       "      <td>1</td>\n",
       "      <td>4</td>\n",
       "      <td>2</td>\n",
       "      <td>1975</td>\n",
       "      <td>Downtown</td>\n",
       "      <td>Fair</td>\n",
       "      <td>Yes</td>\n",
       "      <td>636056</td>\n",
       "    </tr>\n",
       "  </tbody>\n",
       "</table>\n",
       "</div>"
      ],
      "text/plain": [
       "   Id  Area  Bedrooms  Bathrooms  Floors  YearBuilt  Location  Condition  \\\n",
       "0   1  1360         5          4       3       1970  Downtown  Excellent   \n",
       "1   2  4272         5          4       3       1958  Downtown  Excellent   \n",
       "2   3  3592         2          2       3       1938  Downtown       Good   \n",
       "3   4   966         4          2       2       1902  Suburban       Fair   \n",
       "4   5  4926         1          4       2       1975  Downtown       Fair   \n",
       "\n",
       "  Garage   Price  \n",
       "0     No  149919  \n",
       "1     No  424998  \n",
       "2     No  266746  \n",
       "3    Yes  244020  \n",
       "4    Yes  636056  "
      ]
     },
     "execution_count": 4,
     "metadata": {},
     "output_type": "execute_result"
    }
   ],
   "source": [
    "df.head()"
   ]
  },
  {
   "cell_type": "code",
   "execution_count": 5,
   "id": "d1d9ed13",
   "metadata": {
    "execution": {
     "iopub.execute_input": "2024-09-22T12:33:15.275741Z",
     "iopub.status.busy": "2024-09-22T12:33:15.275357Z",
     "iopub.status.idle": "2024-09-22T12:33:15.281577Z",
     "shell.execute_reply": "2024-09-22T12:33:15.280597Z"
    },
    "papermill": {
     "duration": 0.01829,
     "end_time": "2024-09-22T12:33:15.283697",
     "exception": false,
     "start_time": "2024-09-22T12:33:15.265407",
     "status": "completed"
    },
    "tags": []
   },
   "outputs": [
    {
     "data": {
      "text/plain": [
       "(2000, 10)"
      ]
     },
     "execution_count": 5,
     "metadata": {},
     "output_type": "execute_result"
    }
   ],
   "source": [
    "df.shape"
   ]
  },
  {
   "cell_type": "code",
   "execution_count": 6,
   "id": "21773bd1",
   "metadata": {
    "execution": {
     "iopub.execute_input": "2024-09-22T12:33:15.303560Z",
     "iopub.status.busy": "2024-09-22T12:33:15.302807Z",
     "iopub.status.idle": "2024-09-22T12:33:15.314014Z",
     "shell.execute_reply": "2024-09-22T12:33:15.313017Z"
    },
    "papermill": {
     "duration": 0.023522,
     "end_time": "2024-09-22T12:33:15.316080",
     "exception": false,
     "start_time": "2024-09-22T12:33:15.292558",
     "status": "completed"
    },
    "tags": []
   },
   "outputs": [
    {
     "data": {
      "text/plain": [
       "Id           0\n",
       "Area         0\n",
       "Bedrooms     0\n",
       "Bathrooms    0\n",
       "Floors       0\n",
       "YearBuilt    0\n",
       "Location     0\n",
       "Condition    0\n",
       "Garage       0\n",
       "Price        0\n",
       "dtype: int64"
      ]
     },
     "execution_count": 6,
     "metadata": {},
     "output_type": "execute_result"
    }
   ],
   "source": [
    "df.isnull().sum()"
   ]
  },
  {
   "cell_type": "code",
   "execution_count": 7,
   "id": "997f4314",
   "metadata": {
    "execution": {
     "iopub.execute_input": "2024-09-22T12:33:15.336251Z",
     "iopub.status.busy": "2024-09-22T12:33:15.335297Z",
     "iopub.status.idle": "2024-09-22T12:33:15.359760Z",
     "shell.execute_reply": "2024-09-22T12:33:15.358578Z"
    },
    "papermill": {
     "duration": 0.036677,
     "end_time": "2024-09-22T12:33:15.361750",
     "exception": false,
     "start_time": "2024-09-22T12:33:15.325073",
     "status": "completed"
    },
    "tags": []
   },
   "outputs": [
    {
     "name": "stdout",
     "output_type": "stream",
     "text": [
      "<class 'pandas.core.frame.DataFrame'>\n",
      "RangeIndex: 2000 entries, 0 to 1999\n",
      "Data columns (total 10 columns):\n",
      " #   Column     Non-Null Count  Dtype \n",
      "---  ------     --------------  ----- \n",
      " 0   Id         2000 non-null   int64 \n",
      " 1   Area       2000 non-null   int64 \n",
      " 2   Bedrooms   2000 non-null   int64 \n",
      " 3   Bathrooms  2000 non-null   int64 \n",
      " 4   Floors     2000 non-null   int64 \n",
      " 5   YearBuilt  2000 non-null   int64 \n",
      " 6   Location   2000 non-null   object\n",
      " 7   Condition  2000 non-null   object\n",
      " 8   Garage     2000 non-null   object\n",
      " 9   Price      2000 non-null   int64 \n",
      "dtypes: int64(7), object(3)\n",
      "memory usage: 156.4+ KB\n"
     ]
    }
   ],
   "source": [
    "df.info()"
   ]
  },
  {
   "cell_type": "code",
   "execution_count": 8,
   "id": "d2e9ded6",
   "metadata": {
    "execution": {
     "iopub.execute_input": "2024-09-22T12:33:15.381416Z",
     "iopub.status.busy": "2024-09-22T12:33:15.380997Z",
     "iopub.status.idle": "2024-09-22T12:33:15.411577Z",
     "shell.execute_reply": "2024-09-22T12:33:15.410617Z"
    },
    "papermill": {
     "duration": 0.043102,
     "end_time": "2024-09-22T12:33:15.413793",
     "exception": false,
     "start_time": "2024-09-22T12:33:15.370691",
     "status": "completed"
    },
    "tags": []
   },
   "outputs": [
    {
     "data": {
      "text/html": [
       "<div>\n",
       "<style scoped>\n",
       "    .dataframe tbody tr th:only-of-type {\n",
       "        vertical-align: middle;\n",
       "    }\n",
       "\n",
       "    .dataframe tbody tr th {\n",
       "        vertical-align: top;\n",
       "    }\n",
       "\n",
       "    .dataframe thead th {\n",
       "        text-align: right;\n",
       "    }\n",
       "</style>\n",
       "<table border=\"1\" class=\"dataframe\">\n",
       "  <thead>\n",
       "    <tr style=\"text-align: right;\">\n",
       "      <th></th>\n",
       "      <th>Id</th>\n",
       "      <th>Area</th>\n",
       "      <th>Bedrooms</th>\n",
       "      <th>Bathrooms</th>\n",
       "      <th>Floors</th>\n",
       "      <th>YearBuilt</th>\n",
       "      <th>Price</th>\n",
       "    </tr>\n",
       "  </thead>\n",
       "  <tbody>\n",
       "    <tr>\n",
       "      <th>count</th>\n",
       "      <td>2000.000000</td>\n",
       "      <td>2000.000000</td>\n",
       "      <td>2000.000000</td>\n",
       "      <td>2000.00000</td>\n",
       "      <td>2000.000000</td>\n",
       "      <td>2000.000000</td>\n",
       "      <td>2000.000000</td>\n",
       "    </tr>\n",
       "    <tr>\n",
       "      <th>mean</th>\n",
       "      <td>1000.500000</td>\n",
       "      <td>2786.209500</td>\n",
       "      <td>3.003500</td>\n",
       "      <td>2.55250</td>\n",
       "      <td>1.993500</td>\n",
       "      <td>1961.446000</td>\n",
       "      <td>537676.855000</td>\n",
       "    </tr>\n",
       "    <tr>\n",
       "      <th>std</th>\n",
       "      <td>577.494589</td>\n",
       "      <td>1295.146799</td>\n",
       "      <td>1.424606</td>\n",
       "      <td>1.10899</td>\n",
       "      <td>0.809188</td>\n",
       "      <td>35.926695</td>\n",
       "      <td>276428.845719</td>\n",
       "    </tr>\n",
       "    <tr>\n",
       "      <th>min</th>\n",
       "      <td>1.000000</td>\n",
       "      <td>501.000000</td>\n",
       "      <td>1.000000</td>\n",
       "      <td>1.00000</td>\n",
       "      <td>1.000000</td>\n",
       "      <td>1900.000000</td>\n",
       "      <td>50005.000000</td>\n",
       "    </tr>\n",
       "    <tr>\n",
       "      <th>25%</th>\n",
       "      <td>500.750000</td>\n",
       "      <td>1653.000000</td>\n",
       "      <td>2.000000</td>\n",
       "      <td>2.00000</td>\n",
       "      <td>1.000000</td>\n",
       "      <td>1930.000000</td>\n",
       "      <td>300098.000000</td>\n",
       "    </tr>\n",
       "    <tr>\n",
       "      <th>50%</th>\n",
       "      <td>1000.500000</td>\n",
       "      <td>2833.000000</td>\n",
       "      <td>3.000000</td>\n",
       "      <td>3.00000</td>\n",
       "      <td>2.000000</td>\n",
       "      <td>1961.000000</td>\n",
       "      <td>539254.000000</td>\n",
       "    </tr>\n",
       "    <tr>\n",
       "      <th>75%</th>\n",
       "      <td>1500.250000</td>\n",
       "      <td>3887.500000</td>\n",
       "      <td>4.000000</td>\n",
       "      <td>4.00000</td>\n",
       "      <td>3.000000</td>\n",
       "      <td>1993.000000</td>\n",
       "      <td>780086.000000</td>\n",
       "    </tr>\n",
       "    <tr>\n",
       "      <th>max</th>\n",
       "      <td>2000.000000</td>\n",
       "      <td>4999.000000</td>\n",
       "      <td>5.000000</td>\n",
       "      <td>4.00000</td>\n",
       "      <td>3.000000</td>\n",
       "      <td>2023.000000</td>\n",
       "      <td>999656.000000</td>\n",
       "    </tr>\n",
       "  </tbody>\n",
       "</table>\n",
       "</div>"
      ],
      "text/plain": [
       "                Id         Area     Bedrooms   Bathrooms       Floors  \\\n",
       "count  2000.000000  2000.000000  2000.000000  2000.00000  2000.000000   \n",
       "mean   1000.500000  2786.209500     3.003500     2.55250     1.993500   \n",
       "std     577.494589  1295.146799     1.424606     1.10899     0.809188   \n",
       "min       1.000000   501.000000     1.000000     1.00000     1.000000   \n",
       "25%     500.750000  1653.000000     2.000000     2.00000     1.000000   \n",
       "50%    1000.500000  2833.000000     3.000000     3.00000     2.000000   \n",
       "75%    1500.250000  3887.500000     4.000000     4.00000     3.000000   \n",
       "max    2000.000000  4999.000000     5.000000     4.00000     3.000000   \n",
       "\n",
       "         YearBuilt          Price  \n",
       "count  2000.000000    2000.000000  \n",
       "mean   1961.446000  537676.855000  \n",
       "std      35.926695  276428.845719  \n",
       "min    1900.000000   50005.000000  \n",
       "25%    1930.000000  300098.000000  \n",
       "50%    1961.000000  539254.000000  \n",
       "75%    1993.000000  780086.000000  \n",
       "max    2023.000000  999656.000000  "
      ]
     },
     "execution_count": 8,
     "metadata": {},
     "output_type": "execute_result"
    }
   ],
   "source": [
    "df.describe()"
   ]
  },
  {
   "cell_type": "code",
   "execution_count": 9,
   "id": "7223e0a7",
   "metadata": {
    "execution": {
     "iopub.execute_input": "2024-09-22T12:33:15.433976Z",
     "iopub.status.busy": "2024-09-22T12:33:15.433085Z",
     "iopub.status.idle": "2024-09-22T12:33:15.441306Z",
     "shell.execute_reply": "2024-09-22T12:33:15.440355Z"
    },
    "papermill": {
     "duration": 0.020436,
     "end_time": "2024-09-22T12:33:15.443304",
     "exception": false,
     "start_time": "2024-09-22T12:33:15.422868",
     "status": "completed"
    },
    "tags": []
   },
   "outputs": [
    {
     "data": {
      "text/plain": [
       "Location\n",
       "Downtown    558\n",
       "Urban       485\n",
       "Suburban    483\n",
       "Rural       474\n",
       "Name: count, dtype: int64"
      ]
     },
     "execution_count": 9,
     "metadata": {},
     "output_type": "execute_result"
    }
   ],
   "source": [
    "df[\"Location\"].value_counts()"
   ]
  },
  {
   "cell_type": "code",
   "execution_count": 10,
   "id": "43d70caa",
   "metadata": {
    "execution": {
     "iopub.execute_input": "2024-09-22T12:33:15.463539Z",
     "iopub.status.busy": "2024-09-22T12:33:15.463109Z",
     "iopub.status.idle": "2024-09-22T12:33:15.700371Z",
     "shell.execute_reply": "2024-09-22T12:33:15.699228Z"
    },
    "papermill": {
     "duration": 0.250122,
     "end_time": "2024-09-22T12:33:15.702629",
     "exception": false,
     "start_time": "2024-09-22T12:33:15.452507",
     "status": "completed"
    },
    "tags": []
   },
   "outputs": [
    {
     "data": {
      "image/png": "[encoded data removed]",
      "text/plain": [
       "<Figure size 640x480 with 1 Axes>"
      ]
     },
     "metadata": {},
     "output_type": "display_data"
    }
   ],
   "source": [
    "sns.countplot(x = \"Location\",data = df)\n",
    "plt.title(\"Location Count\")\n",
    "plt.show()"
   ]
  },
  {
   "cell_type": "code",
   "execution_count": 11,
   "id": "7ae34f88",
   "metadata": {
    "execution": {
     "iopub.execute_input": "2024-09-22T12:33:15.723527Z",
     "iopub.status.busy": "2024-09-22T12:33:15.723095Z",
     "iopub.status.idle": "2024-09-22T12:33:15.731346Z",
     "shell.execute_reply": "2024-09-22T12:33:15.730404Z"
    },
    "papermill": {
     "duration": 0.021213,
     "end_time": "2024-09-22T12:33:15.733408",
     "exception": false,
     "start_time": "2024-09-22T12:33:15.712195",
     "status": "completed"
    },
    "tags": []
   },
   "outputs": [
    {
     "data": {
      "text/plain": [
       "Condition\n",
       "Fair         521\n",
       "Excellent    511\n",
       "Poor         507\n",
       "Good         461\n",
       "Name: count, dtype: int64"
      ]
     },
     "execution_count": 11,
     "metadata": {},
     "output_type": "execute_result"
    }
   ],
   "source": [
    "df[\"Condition\"].value_counts()"
   ]
  },
  {
   "cell_type": "code",
   "execution_count": 12,
   "id": "6ea5417e",
   "metadata": {
    "execution": {
     "iopub.execute_input": "2024-09-22T12:33:15.754859Z",
     "iopub.status.busy": "2024-09-22T12:33:15.753950Z",
     "iopub.status.idle": "2024-09-22T12:33:15.919086Z",
     "shell.execute_reply": "2024-09-22T12:33:15.918006Z"
    },
    "papermill": {
     "duration": 0.178265,
     "end_time": "2024-09-22T12:33:15.921321",
     "exception": false,
     "start_time": "2024-09-22T12:33:15.743056",
     "status": "completed"
    },
    "tags": []
   },
   "outputs": [
    {
     "data": {
      "image/png": "[encoded data removed]",
      "text/plain": [
       "<Figure size 640x480 with 1 Axes>"
      ]
     },
     "metadata": {},
     "output_type": "display_data"
    }
   ],
   "source": [
    "sns.countplot(x = \"Condition\",data = df)\n",
    "plt.title(\"Condition Count\")\n",
    "plt.show()"
   ]
  },
  {
   "cell_type": "code",
   "execution_count": 13,
   "id": "ebdadd1e",
   "metadata": {
    "execution": {
     "iopub.execute_input": "2024-09-22T12:33:15.943118Z",
     "iopub.status.busy": "2024-09-22T12:33:15.942702Z",
     "iopub.status.idle": "2024-09-22T12:33:15.951373Z",
     "shell.execute_reply": "2024-09-22T12:33:15.950363Z"
    },
    "papermill": {
     "duration": 0.022042,
     "end_time": "2024-09-22T12:33:15.953417",
     "exception": false,
     "start_time": "2024-09-22T12:33:15.931375",
     "status": "completed"
    },
    "tags": []
   },
   "outputs": [
    {
     "data": {
      "text/plain": [
       "Garage\n",
       "No     1038\n",
       "Yes     962\n",
       "Name: count, dtype: int64"
      ]
     },
     "execution_count": 13,
     "metadata": {},
     "output_type": "execute_result"
    }
   ],
   "source": [
    "df[\"Garage\"].value_counts()"
   ]
  },
  {
   "cell_type": "code",
   "execution_count": 14,
   "id": "3f75392b",
   "metadata": {
    "execution": {
     "iopub.execute_input": "2024-09-22T12:33:15.976101Z",
     "iopub.status.busy": "2024-09-22T12:33:15.975052Z",
     "iopub.status.idle": "2024-09-22T12:33:16.169913Z",
     "shell.execute_reply": "2024-09-22T12:33:16.168922Z"
    },
    "papermill": {
     "duration": 0.208534,
     "end_time": "2024-09-22T12:33:16.172157",
     "exception": false,
     "start_time": "2024-09-22T12:33:15.963623",
     "status": "completed"
    },
    "tags": []
   },
   "outputs": [
    {
     "data": {
      "image/png": "[encoded data removed]",
      "text/plain": [
       "<Figure size 640x480 with 1 Axes>"
      ]
     },
     "metadata": {},
     "output_type": "display_data"
    }
   ],
   "source": [
    "sns.countplot(x = \"Garage\",data = df)\n",
    "plt.title(\"Garage Count\")\n",
    "plt.show()"
   ]
  },
  {
   "cell_type": "code",
   "execution_count": 15,
   "id": "dc99118a",
   "metadata": {
    "execution": {
     "iopub.execute_input": "2024-09-22T12:33:16.194774Z",
     "iopub.status.busy": "2024-09-22T12:33:16.194374Z",
     "iopub.status.idle": "2024-09-22T12:33:16.203836Z",
     "shell.execute_reply": "2024-09-22T12:33:16.202793Z"
    },
    "papermill": {
     "duration": 0.023225,
     "end_time": "2024-09-22T12:33:16.205875",
     "exception": false,
     "start_time": "2024-09-22T12:33:16.182650",
     "status": "completed"
    },
    "tags": []
   },
   "outputs": [
    {
     "data": {
      "text/plain": [
       "Bedrooms\n",
       "1    418\n",
       "3    406\n",
       "4    405\n",
       "5    403\n",
       "2    368\n",
       "Name: count, dtype: int64"
      ]
     },
     "execution_count": 15,
     "metadata": {},
     "output_type": "execute_result"
    }
   ],
   "source": [
    "df[\"Bedrooms\"].value_counts()"
   ]
  },
  {
   "cell_type": "code",
   "execution_count": 16,
   "id": "b9d3ccef",
   "metadata": {
    "execution": {
     "iopub.execute_input": "2024-09-22T12:33:16.228819Z",
     "iopub.status.busy": "2024-09-22T12:33:16.228418Z",
     "iopub.status.idle": "2024-09-22T12:33:16.415874Z",
     "shell.execute_reply": "2024-09-22T12:33:16.414817Z"
    },
    "papermill": {
     "duration": 0.201358,
     "end_time": "2024-09-22T12:33:16.417993",
     "exception": false,
     "start_time": "2024-09-22T12:33:16.216635",
     "status": "completed"
    },
    "tags": []
   },
   "outputs": [
    {
     "data": {
      "image/png": "[encoded data removed]",
      "text/plain": [
       "<Figure size 640x480 with 1 Axes>"
      ]
     },
     "metadata": {},
     "output_type": "display_data"
    }
   ],
   "source": [
    "sns.countplot(x = \"Bedrooms\",data = df)\n",
    "plt.title(\"Bedrooms Count\")\n",
    "plt.show()"
   ]
  },
  {
   "cell_type": "code",
   "execution_count": 17,
   "id": "f7cde700",
   "metadata": {
    "execution": {
     "iopub.execute_input": "2024-09-22T12:33:16.441455Z",
     "iopub.status.busy": "2024-09-22T12:33:16.441026Z",
     "iopub.status.idle": "2024-09-22T12:33:16.449027Z",
     "shell.execute_reply": "2024-09-22T12:33:16.448065Z"
    },
    "papermill": {
     "duration": 0.022034,
     "end_time": "2024-09-22T12:33:16.451030",
     "exception": false,
     "start_time": "2024-09-22T12:33:16.428996",
     "status": "completed"
    },
    "tags": []
   },
   "outputs": [
    {
     "data": {
      "text/plain": [
       "Bathrooms\n",
       "3    524\n",
       "4    521\n",
       "2    494\n",
       "1    461\n",
       "Name: count, dtype: int64"
      ]
     },
     "execution_count": 17,
     "metadata": {},
     "output_type": "execute_result"
    }
   ],
   "source": [
    "df[\"Bathrooms\"].value_counts()"
   ]
  },
  {
   "cell_type": "code",
   "execution_count": 18,
   "id": "4403138f",
   "metadata": {
    "execution": {
     "iopub.execute_input": "2024-09-22T12:33:16.474308Z",
     "iopub.status.busy": "2024-09-22T12:33:16.473912Z",
     "iopub.status.idle": "2024-09-22T12:33:16.635957Z",
     "shell.execute_reply": "2024-09-22T12:33:16.635132Z"
    },
    "papermill": {
     "duration": 0.176214,
     "end_time": "2024-09-22T12:33:16.638209",
     "exception": false,
     "start_time": "2024-09-22T12:33:16.461995",
     "status": "completed"
    },
    "tags": []
   },
   "outputs": [
    {
     "data": {
      "image/png": "[encoded data removed]",
      "text/plain": [
       "<Figure size 640x480 with 1 Axes>"
      ]
     },
     "metadata": {},
     "output_type": "display_data"
    }
   ],
   "source": [
    "sns.countplot(x = \"Bathrooms\",data=df)\n",
    "plt.title(\"Bathrooms count\")\n",
    "plt.show()"
   ]
  },
  {
   "cell_type": "code",
   "execution_count": 19,
   "id": "f3888f76",
   "metadata": {
    "execution": {
     "iopub.execute_input": "2024-09-22T12:33:16.662309Z",
     "iopub.status.busy": "2024-09-22T12:33:16.661893Z",
     "iopub.status.idle": "2024-09-22T12:33:16.668923Z",
     "shell.execute_reply": "2024-09-22T12:33:16.668052Z"
    },
    "papermill": {
     "duration": 0.021546,
     "end_time": "2024-09-22T12:33:16.671093",
     "exception": false,
     "start_time": "2024-09-22T12:33:16.649547",
     "status": "completed"
    },
    "tags": []
   },
   "outputs": [],
   "source": [
    "df.drop(columns=[\"Id\"],inplace = True,)"
   ]
  },
  {
   "cell_type": "code",
   "execution_count": 20,
   "id": "e9084261",
   "metadata": {
    "execution": {
     "iopub.execute_input": "2024-09-22T12:33:16.694940Z",
     "iopub.status.busy": "2024-09-22T12:33:16.694566Z",
     "iopub.status.idle": "2024-09-22T12:33:16.706848Z",
     "shell.execute_reply": "2024-09-22T12:33:16.705883Z"
    },
    "papermill": {
     "duration": 0.026584,
     "end_time": "2024-09-22T12:33:16.708895",
     "exception": false,
     "start_time": "2024-09-22T12:33:16.682311",
     "status": "completed"
    },
    "tags": []
   },
   "outputs": [
    {
     "data": {
      "text/html": [
       "<div>\n",
       "<style scoped>\n",
       "    .dataframe tbody tr th:only-of-type {\n",
       "        vertical-align: middle;\n",
       "    }\n",
       "\n",
       "    .dataframe tbody tr th {\n",
       "        vertical-align: top;\n",
       "    }\n",
       "\n",
       "    .dataframe thead th {\n",
       "        text-align: right;\n",
       "    }\n",
       "</style>\n",
       "<table border=\"1\" class=\"dataframe\">\n",
       "  <thead>\n",
       "    <tr style=\"text-align: right;\">\n",
       "      <th></th>\n",
       "      <th>Area</th>\n",
       "      <th>Bedrooms</th>\n",
       "      <th>Bathrooms</th>\n",
       "      <th>Floors</th>\n",
       "      <th>YearBuilt</th>\n",
       "      <th>Location</th>\n",
       "      <th>Condition</th>\n",
       "      <th>Garage</th>\n",
       "      <th>Price</th>\n",
       "    </tr>\n",
       "  </thead>\n",
       "  <tbody>\n",
       "    <tr>\n",
       "      <th>0</th>\n",
       "      <td>1360</td>\n",
       "      <td>5</td>\n",
       "      <td>4</td>\n",
       "      <td>3</td>\n",
       "      <td>1970</td>\n",
       "      <td>Downtown</td>\n",
       "      <td>Excellent</td>\n",
       "      <td>No</td>\n",
       "      <td>149919</td>\n",
       "    </tr>\n",
       "    <tr>\n",
       "      <th>1</th>\n",
       "      <td>4272</td>\n",
       "      <td>5</td>\n",
       "      <td>4</td>\n",
       "      <td>3</td>\n",
       "      <td>1958</td>\n",
       "      <td>Downtown</td>\n",
       "      <td>Excellent</td>\n",
       "      <td>No</td>\n",
       "      <td>424998</td>\n",
       "    </tr>\n",
       "    <tr>\n",
       "      <th>2</th>\n",
       "      <td>3592</td>\n",
       "      <td>2</td>\n",
       "      <td>2</td>\n",
       "      <td>3</td>\n",
       "      <td>1938</td>\n",
       "      <td>Downtown</td>\n",
       "      <td>Good</td>\n",
       "      <td>No</td>\n",
       "      <td>266746</td>\n",
       "    </tr>\n",
       "    <tr>\n",
       "      <th>3</th>\n",
       "      <td>966</td>\n",
       "      <td>4</td>\n",
       "      <td>2</td>\n",
       "      <td>2</td>\n",
       "      <td>1902</td>\n",
       "      <td>Suburban</td>\n",
       "      <td>Fair</td>\n",
       "      <td>Yes</td>\n",
       "      <td>244020</td>\n",
       "    </tr>\n",
       "    <tr>\n",
       "      <th>4</th>\n",
       "      <td>4926</td>\n",
       "      <td>1</td>\n",
       "      <td>4</td>\n",
       "      <td>2</td>\n",
       "      <td>1975</td>\n",
       "      <td>Downtown</td>\n",
       "      <td>Fair</td>\n",
       "      <td>Yes</td>\n",
       "      <td>636056</td>\n",
       "    </tr>\n",
       "  </tbody>\n",
       "</table>\n",
       "</div>"
      ],
      "text/plain": [
       "   Area  Bedrooms  Bathrooms  Floors  YearBuilt  Location  Condition Garage  \\\n",
       "0  1360         5          4       3       1970  Downtown  Excellent     No   \n",
       "1  4272         5          4       3       1958  Downtown  Excellent     No   \n",
       "2  3592         2          2       3       1938  Downtown       Good     No   \n",
       "3   966         4          2       2       1902  Suburban       Fair    Yes   \n",
       "4  4926         1          4       2       1975  Downtown       Fair    Yes   \n",
       "\n",
       "    Price  \n",
       "0  149919  \n",
       "1  424998  \n",
       "2  266746  \n",
       "3  244020  \n",
       "4  636056  "
      ]
     },
     "execution_count": 20,
     "metadata": {},
     "output_type": "execute_result"
    }
   ],
   "source": [
    "df.head()"
   ]
  },
  {
   "cell_type": "code",
   "execution_count": 21,
   "id": "f5fd2758",
   "metadata": {
    "execution": {
     "iopub.execute_input": "2024-09-22T12:33:16.733657Z",
     "iopub.status.busy": "2024-09-22T12:33:16.732790Z",
     "iopub.status.idle": "2024-09-22T12:33:17.002602Z",
     "shell.execute_reply": "2024-09-22T12:33:17.001288Z"
    },
    "papermill": {
     "duration": 0.284917,
     "end_time": "2024-09-22T12:33:17.005273",
     "exception": false,
     "start_time": "2024-09-22T12:33:16.720356",
     "status": "completed"
    },
    "tags": []
   },
   "outputs": [],
   "source": [
    "from sklearn.preprocessing import LabelEncoder\n",
    "from sklearn.preprocessing import StandardScaler\n",
    "from sklearn.model_selection import train_test_split"
   ]
  },
  {
   "cell_type": "code",
   "execution_count": 22,
   "id": "bb74b168",
   "metadata": {
    "execution": {
     "iopub.execute_input": "2024-09-22T12:33:17.031387Z",
     "iopub.status.busy": "2024-09-22T12:33:17.030317Z",
     "iopub.status.idle": "2024-09-22T12:33:17.038184Z",
     "shell.execute_reply": "2024-09-22T12:33:17.036976Z"
    },
    "papermill": {
     "duration": 0.023135,
     "end_time": "2024-09-22T12:33:17.040339",
     "exception": false,
     "start_time": "2024-09-22T12:33:17.017204",
     "status": "completed"
    },
    "tags": []
   },
   "outputs": [],
   "source": [
    "Location_en =  LabelEncoder()\n",
    "df[\"Location\"] = Location_en.fit_transform(df[\"Location\"])"
   ]
  },
  {
   "cell_type": "code",
   "execution_count": 23,
   "id": "ba5b6ee1",
   "metadata": {
    "execution": {
     "iopub.execute_input": "2024-09-22T12:33:17.065631Z",
     "iopub.status.busy": "2024-09-22T12:33:17.065226Z",
     "iopub.status.idle": "2024-09-22T12:33:17.071900Z",
     "shell.execute_reply": "2024-09-22T12:33:17.070547Z"
    },
    "papermill": {
     "duration": 0.022385,
     "end_time": "2024-09-22T12:33:17.074741",
     "exception": false,
     "start_time": "2024-09-22T12:33:17.052356",
     "status": "completed"
    },
    "tags": []
   },
   "outputs": [],
   "source": [
    "Condition_en =  LabelEncoder()\n",
    "df[\"Condition\"] = Condition_en.fit_transform(df[\"Condition\"])"
   ]
  },
  {
   "cell_type": "code",
   "execution_count": 24,
   "id": "522b36b0",
   "metadata": {
    "execution": {
     "iopub.execute_input": "2024-09-22T12:33:17.110289Z",
     "iopub.status.busy": "2024-09-22T12:33:17.109863Z",
     "iopub.status.idle": "2024-09-22T12:33:17.116041Z",
     "shell.execute_reply": "2024-09-22T12:33:17.114945Z"
    },
    "papermill": {
     "duration": 0.026093,
     "end_time": "2024-09-22T12:33:17.118656",
     "exception": false,
     "start_time": "2024-09-22T12:33:17.092563",
     "status": "completed"
    },
    "tags": []
   },
   "outputs": [],
   "source": [
    "Garage_en =  LabelEncoder()\n",
    "df[\"Garage\"] = Condition_en.fit_transform(df[\"Garage\"])"
   ]
  },
  {
   "cell_type": "code",
   "execution_count": 25,
   "id": "1333c88b",
   "metadata": {
    "execution": {
     "iopub.execute_input": "2024-09-22T12:33:17.151169Z",
     "iopub.status.busy": "2024-09-22T12:33:17.150072Z",
     "iopub.status.idle": "2024-09-22T12:33:17.165629Z",
     "shell.execute_reply": "2024-09-22T12:33:17.164465Z"
    },
    "papermill": {
     "duration": 0.030974,
     "end_time": "2024-09-22T12:33:17.167677",
     "exception": false,
     "start_time": "2024-09-22T12:33:17.136703",
     "status": "completed"
    },
    "tags": []
   },
   "outputs": [
    {
     "data": {
      "text/html": [
       "<div>\n",
       "<style scoped>\n",
       "    .dataframe tbody tr th:only-of-type {\n",
       "        vertical-align: middle;\n",
       "    }\n",
       "\n",
       "    .dataframe tbody tr th {\n",
       "        vertical-align: top;\n",
       "    }\n",
       "\n",
       "    .dataframe thead th {\n",
       "        text-align: right;\n",
       "    }\n",
       "</style>\n",
       "<table border=\"1\" class=\"dataframe\">\n",
       "  <thead>\n",
       "    <tr style=\"text-align: right;\">\n",
       "      <th></th>\n",
       "      <th>Area</th>\n",
       "      <th>Bedrooms</th>\n",
       "      <th>Bathrooms</th>\n",
       "      <th>Floors</th>\n",
       "      <th>YearBuilt</th>\n",
       "      <th>Location</th>\n",
       "      <th>Condition</th>\n",
       "      <th>Garage</th>\n",
       "      <th>Price</th>\n",
       "    </tr>\n",
       "  </thead>\n",
       "  <tbody>\n",
       "    <tr>\n",
       "      <th>0</th>\n",
       "      <td>1360</td>\n",
       "      <td>5</td>\n",
       "      <td>4</td>\n",
       "      <td>3</td>\n",
       "      <td>1970</td>\n",
       "      <td>0</td>\n",
       "      <td>0</td>\n",
       "      <td>0</td>\n",
       "      <td>149919</td>\n",
       "    </tr>\n",
       "    <tr>\n",
       "      <th>1</th>\n",
       "      <td>4272</td>\n",
       "      <td>5</td>\n",
       "      <td>4</td>\n",
       "      <td>3</td>\n",
       "      <td>1958</td>\n",
       "      <td>0</td>\n",
       "      <td>0</td>\n",
       "      <td>0</td>\n",
       "      <td>424998</td>\n",
       "    </tr>\n",
       "    <tr>\n",
       "      <th>2</th>\n",
       "      <td>3592</td>\n",
       "      <td>2</td>\n",
       "      <td>2</td>\n",
       "      <td>3</td>\n",
       "      <td>1938</td>\n",
       "      <td>0</td>\n",
       "      <td>2</td>\n",
       "      <td>0</td>\n",
       "      <td>266746</td>\n",
       "    </tr>\n",
       "    <tr>\n",
       "      <th>3</th>\n",
       "      <td>966</td>\n",
       "      <td>4</td>\n",
       "      <td>2</td>\n",
       "      <td>2</td>\n",
       "      <td>1902</td>\n",
       "      <td>2</td>\n",
       "      <td>1</td>\n",
       "      <td>1</td>\n",
       "      <td>244020</td>\n",
       "    </tr>\n",
       "    <tr>\n",
       "      <th>4</th>\n",
       "      <td>4926</td>\n",
       "      <td>1</td>\n",
       "      <td>4</td>\n",
       "      <td>2</td>\n",
       "      <td>1975</td>\n",
       "      <td>0</td>\n",
       "      <td>1</td>\n",
       "      <td>1</td>\n",
       "      <td>636056</td>\n",
       "    </tr>\n",
       "  </tbody>\n",
       "</table>\n",
       "</div>"
      ],
      "text/plain": [
       "   Area  Bedrooms  Bathrooms  Floors  YearBuilt  Location  Condition  Garage  \\\n",
       "0  1360         5          4       3       1970         0          0       0   \n",
       "1  4272         5          4       3       1958         0          0       0   \n",
       "2  3592         2          2       3       1938         0          2       0   \n",
       "3   966         4          2       2       1902         2          1       1   \n",
       "4  4926         1          4       2       1975         0          1       1   \n",
       "\n",
       "    Price  \n",
       "0  149919  \n",
       "1  424998  \n",
       "2  266746  \n",
       "3  244020  \n",
       "4  636056  "
      ]
     },
     "execution_count": 25,
     "metadata": {},
     "output_type": "execute_result"
    }
   ],
   "source": [
    "df.head()"
   ]
  },
  {
   "cell_type": "code",
   "execution_count": 26,
   "id": "c3642f56",
   "metadata": {
    "execution": {
     "iopub.execute_input": "2024-09-22T12:33:17.193532Z",
     "iopub.status.busy": "2024-09-22T12:33:17.192602Z",
     "iopub.status.idle": "2024-09-22T12:33:17.201088Z",
     "shell.execute_reply": "2024-09-22T12:33:17.200040Z"
    },
    "papermill": {
     "duration": 0.023937,
     "end_time": "2024-09-22T12:33:17.203369",
     "exception": false,
     "start_time": "2024-09-22T12:33:17.179432",
     "status": "completed"
    },
    "tags": []
   },
   "outputs": [],
   "source": [
    "x = df.drop(columns=['Price'])\n",
    "y = df[\"Price\"]"
   ]
  },
  {
   "cell_type": "code",
   "execution_count": 27,
   "id": "085235cc",
   "metadata": {
    "execution": {
     "iopub.execute_input": "2024-09-22T12:33:17.229452Z",
     "iopub.status.busy": "2024-09-22T12:33:17.228444Z",
     "iopub.status.idle": "2024-09-22T12:33:17.239126Z",
     "shell.execute_reply": "2024-09-22T12:33:17.238123Z"
    },
    "papermill": {
     "duration": 0.026041,
     "end_time": "2024-09-22T12:33:17.241316",
     "exception": false,
     "start_time": "2024-09-22T12:33:17.215275",
     "status": "completed"
    },
    "tags": []
   },
   "outputs": [],
   "source": [
    "scaler = StandardScaler()\n",
    "x = scaler.fit_transform(df)"
   ]
  },
  {
   "cell_type": "code",
   "execution_count": 28,
   "id": "92e76e97",
   "metadata": {
    "execution": {
     "iopub.execute_input": "2024-09-22T12:33:17.267276Z",
     "iopub.status.busy": "2024-09-22T12:33:17.266258Z",
     "iopub.status.idle": "2024-09-22T12:33:17.271992Z",
     "shell.execute_reply": "2024-09-22T12:33:17.270974Z"
    },
    "papermill": {
     "duration": 0.021077,
     "end_time": "2024-09-22T12:33:17.274201",
     "exception": false,
     "start_time": "2024-09-22T12:33:17.253124",
     "status": "completed"
    },
    "tags": []
   },
   "outputs": [],
   "source": [
    "x = pd.DataFrame(x, columns=df.columns)"
   ]
  },
  {
   "cell_type": "code",
   "execution_count": 29,
   "id": "26d50b7a",
   "metadata": {
    "execution": {
     "iopub.execute_input": "2024-09-22T12:33:17.301959Z",
     "iopub.status.busy": "2024-09-22T12:33:17.301486Z",
     "iopub.status.idle": "2024-09-22T12:33:17.315684Z",
     "shell.execute_reply": "2024-09-22T12:33:17.314724Z"
    },
    "papermill": {
     "duration": 0.032993,
     "end_time": "2024-09-22T12:33:17.319082",
     "exception": false,
     "start_time": "2024-09-22T12:33:17.286089",
     "status": "completed"
    },
    "tags": []
   },
   "outputs": [
    {
     "data": {
      "text/html": [
       "<div>\n",
       "<style scoped>\n",
       "    .dataframe tbody tr th:only-of-type {\n",
       "        vertical-align: middle;\n",
       "    }\n",
       "\n",
       "    .dataframe tbody tr th {\n",
       "        vertical-align: top;\n",
       "    }\n",
       "\n",
       "    .dataframe thead th {\n",
       "        text-align: right;\n",
       "    }\n",
       "</style>\n",
       "<table border=\"1\" class=\"dataframe\">\n",
       "  <thead>\n",
       "    <tr style=\"text-align: right;\">\n",
       "      <th></th>\n",
       "      <th>Area</th>\n",
       "      <th>Bedrooms</th>\n",
       "      <th>Bathrooms</th>\n",
       "      <th>Floors</th>\n",
       "      <th>YearBuilt</th>\n",
       "      <th>Location</th>\n",
       "      <th>Condition</th>\n",
       "      <th>Garage</th>\n",
       "      <th>Price</th>\n",
       "    </tr>\n",
       "  </thead>\n",
       "  <tbody>\n",
       "    <tr>\n",
       "      <th>0</th>\n",
       "      <td>-1.101471</td>\n",
       "      <td>1.401791</td>\n",
       "      <td>1.305568</td>\n",
       "      <td>1.244151</td>\n",
       "      <td>0.238155</td>\n",
       "      <td>-1.274332</td>\n",
       "      <td>-1.316267</td>\n",
       "      <td>-0.962695</td>\n",
       "      <td>-1.403091</td>\n",
       "    </tr>\n",
       "    <tr>\n",
       "      <th>1</th>\n",
       "      <td>1.147485</td>\n",
       "      <td>1.401791</td>\n",
       "      <td>1.305568</td>\n",
       "      <td>1.244151</td>\n",
       "      <td>-0.095942</td>\n",
       "      <td>-1.274332</td>\n",
       "      <td>-1.316267</td>\n",
       "      <td>-0.962695</td>\n",
       "      <td>-0.407725</td>\n",
       "    </tr>\n",
       "    <tr>\n",
       "      <th>2</th>\n",
       "      <td>0.622317</td>\n",
       "      <td>-0.704581</td>\n",
       "      <td>-0.498326</td>\n",
       "      <td>1.244151</td>\n",
       "      <td>-0.652770</td>\n",
       "      <td>-1.274332</td>\n",
       "      <td>0.460072</td>\n",
       "      <td>-0.962695</td>\n",
       "      <td>-0.980356</td>\n",
       "    </tr>\n",
       "    <tr>\n",
       "      <th>3</th>\n",
       "      <td>-1.405759</td>\n",
       "      <td>0.699667</td>\n",
       "      <td>-0.498326</td>\n",
       "      <td>0.008035</td>\n",
       "      <td>-1.655061</td>\n",
       "      <td>0.486403</td>\n",
       "      <td>-0.428098</td>\n",
       "      <td>1.038750</td>\n",
       "      <td>-1.062589</td>\n",
       "    </tr>\n",
       "    <tr>\n",
       "      <th>4</th>\n",
       "      <td>1.652574</td>\n",
       "      <td>-1.406705</td>\n",
       "      <td>1.305568</td>\n",
       "      <td>0.008035</td>\n",
       "      <td>0.377363</td>\n",
       "      <td>-1.274332</td>\n",
       "      <td>-0.428098</td>\n",
       "      <td>1.038750</td>\n",
       "      <td>0.355982</td>\n",
       "    </tr>\n",
       "  </tbody>\n",
       "</table>\n",
       "</div>"
      ],
      "text/plain": [
       "       Area  Bedrooms  Bathrooms    Floors  YearBuilt  Location  Condition  \\\n",
       "0 -1.101471  1.401791   1.305568  1.244151   0.238155 -1.274332  -1.316267   \n",
       "1  1.147485  1.401791   1.305568  1.244151  -0.095942 -1.274332  -1.316267   \n",
       "2  0.622317 -0.704581  -0.498326  1.244151  -0.652770 -1.274332   0.460072   \n",
       "3 -1.405759  0.699667  -0.498326  0.008035  -1.655061  0.486403  -0.428098   \n",
       "4  1.652574 -1.406705   1.305568  0.008035   0.377363 -1.274332  -0.428098   \n",
       "\n",
       "     Garage     Price  \n",
       "0 -0.962695 -1.403091  \n",
       "1 -0.962695 -0.407725  \n",
       "2 -0.962695 -0.980356  \n",
       "3  1.038750 -1.062589  \n",
       "4  1.038750  0.355982  "
      ]
     },
     "execution_count": 29,
     "metadata": {},
     "output_type": "execute_result"
    }
   ],
   "source": [
    "x.head()"
   ]
  },
  {
   "cell_type": "code",
   "execution_count": 30,
   "id": "0fca3917",
   "metadata": {
    "execution": {
     "iopub.execute_input": "2024-09-22T12:33:17.353870Z",
     "iopub.status.busy": "2024-09-22T12:33:17.353483Z",
     "iopub.status.idle": "2024-09-22T12:33:17.849728Z",
     "shell.execute_reply": "2024-09-22T12:33:17.848670Z"
    },
    "papermill": {
     "duration": 0.515477,
     "end_time": "2024-09-22T12:33:17.853919",
     "exception": false,
     "start_time": "2024-09-22T12:33:17.338442",
     "status": "completed"
    },
    "tags": []
   },
   "outputs": [
    {
     "data": {
      "image/png": "[encoded data removed]",
      "text/plain": [
       "<Figure size 1000x800 with 2 Axes>"
      ]
     },
     "metadata": {},
     "output_type": "display_data"
    }
   ],
   "source": [
    "plt.figure(figsize = (10,8))\n",
    "sns.heatmap(data=df.corr(),annot=True)\n",
    "plt.show()"
   ]
  },
  {
   "cell_type": "code",
   "execution_count": 31,
   "id": "7afb768f",
   "metadata": {
    "execution": {
     "iopub.execute_input": "2024-09-22T12:33:17.890209Z",
     "iopub.status.busy": "2024-09-22T12:33:17.889778Z",
     "iopub.status.idle": "2024-09-22T12:33:17.895486Z",
     "shell.execute_reply": "2024-09-22T12:33:17.894417Z"
    },
    "papermill": {
     "duration": 0.022848,
     "end_time": "2024-09-22T12:33:17.897749",
     "exception": false,
     "start_time": "2024-09-22T12:33:17.874901",
     "status": "completed"
    },
    "tags": []
   },
   "outputs": [
    {
     "name": "stdout",
     "output_type": "stream",
     "text": [
      "Shape of x: (2000, 9)\n",
      "Shape of y: (2000,)\n"
     ]
    }
   ],
   "source": [
    "print(f\"Shape of x: {x.shape}\")\n",
    "print(f\"Shape of y: {y.shape}\")"
   ]
  },
  {
   "cell_type": "code",
   "execution_count": 32,
   "id": "9ca5bce9",
   "metadata": {
    "execution": {
     "iopub.execute_input": "2024-09-22T12:33:17.926108Z",
     "iopub.status.busy": "2024-09-22T12:33:17.925724Z",
     "iopub.status.idle": "2024-09-22T12:33:18.179105Z",
     "shell.execute_reply": "2024-09-22T12:33:18.178126Z"
    },
    "papermill": {
     "duration": 0.270533,
     "end_time": "2024-09-22T12:33:18.181641",
     "exception": false,
     "start_time": "2024-09-22T12:33:17.911108",
     "status": "completed"
    },
    "tags": []
   },
   "outputs": [],
   "source": [
    "from sklearn.linear_model import LinearRegression,Lasso, Ridge,ElasticNet\n",
    "from sklearn.tree import DecisionTreeRegressor\n",
    "from sklearn.svm import SVR\n",
    "from sklearn.neighbors import KNeighborsRegressor\n",
    "from sklearn.ensemble import RandomForestRegressor"
   ]
  },
  {
   "cell_type": "code",
   "execution_count": 33,
   "id": "1fb138bf",
   "metadata": {
    "execution": {
     "iopub.execute_input": "2024-09-22T12:33:18.210794Z",
     "iopub.status.busy": "2024-09-22T12:33:18.209771Z",
     "iopub.status.idle": "2024-09-22T12:33:18.215188Z",
     "shell.execute_reply": "2024-09-22T12:33:18.214181Z"
    },
    "papermill": {
     "duration": 0.022336,
     "end_time": "2024-09-22T12:33:18.217285",
     "exception": false,
     "start_time": "2024-09-22T12:33:18.194949",
     "status": "completed"
    },
    "tags": []
   },
   "outputs": [],
   "source": [
    "from sklearn.metrics import mean_squared_error , mean_absolute_error"
   ]
  },
  {
   "cell_type": "code",
   "execution_count": 34,
   "id": "4ad39c55",
   "metadata": {
    "execution": {
     "iopub.execute_input": "2024-09-22T12:33:18.246063Z",
     "iopub.status.busy": "2024-09-22T12:33:18.245041Z",
     "iopub.status.idle": "2024-09-22T12:33:18.254684Z",
     "shell.execute_reply": "2024-09-22T12:33:18.253642Z"
    },
    "papermill": {
     "duration": 0.026683,
     "end_time": "2024-09-22T12:33:18.257199",
     "exception": false,
     "start_time": "2024-09-22T12:33:18.230516",
     "status": "completed"
    },
    "tags": []
   },
   "outputs": [],
   "source": [
    "x_train,x_test,y_train,y_test = train_test_split(x,y,test_size = 0.2,random_state=0)"
   ]
  },
  {
   "cell_type": "code",
   "execution_count": 35,
   "id": "eda45f91",
   "metadata": {
    "execution": {
     "iopub.execute_input": "2024-09-22T12:33:18.291758Z",
     "iopub.status.busy": "2024-09-22T12:33:18.291353Z",
     "iopub.status.idle": "2024-09-22T12:33:18.313593Z",
     "shell.execute_reply": "2024-09-22T12:33:18.311846Z"
    },
    "papermill": {
     "duration": 0.039383,
     "end_time": "2024-09-22T12:33:18.316061",
     "exception": false,
     "start_time": "2024-09-22T12:33:18.276678",
     "status": "completed"
    },
    "tags": []
   },
   "outputs": [
    {
     "data": {
      "text/plain": [
       "(99.9999999987408, 99.9999999987434)"
      ]
     },
     "execution_count": 35,
     "metadata": {},
     "output_type": "execute_result"
    }
   ],
   "source": [
    "Lasso_test = Lasso ()\n",
    "Lasso_test.fit(x_train,y_train)\n",
    "Lasso_test.score(x_test,y_test)*100 ,Lasso_test.score(x_train,y_train)*100"
   ]
  },
  {
   "cell_type": "code",
   "execution_count": 36,
   "id": "4c982ba8",
   "metadata": {
    "execution": {
     "iopub.execute_input": "2024-09-22T12:33:18.378130Z",
     "iopub.status.busy": "2024-09-22T12:33:18.377601Z",
     "iopub.status.idle": "2024-09-22T12:33:18.391304Z",
     "shell.execute_reply": "2024-09-22T12:33:18.390225Z"
    },
    "papermill": {
     "duration": 0.040626,
     "end_time": "2024-09-22T12:33:18.393881",
     "exception": false,
     "start_time": "2024-09-22T12:33:18.353255",
     "status": "completed"
    },
    "tags": []
   },
   "outputs": [
    {
     "data": {
      "text/plain": [
       "(0.8803611264980913, 0.7993447573464073)"
      ]
     },
     "execution_count": 36,
     "metadata": {},
     "output_type": "execute_result"
    }
   ],
   "source": [
    "mean_squared_error(y_test ,Lasso_test.predict(x_test)),mean_absolute_error(y_test ,Lasso_test.predict(x_test))"
   ]
  },
  {
   "cell_type": "code",
   "execution_count": 37,
   "id": "b1a54bd9",
   "metadata": {
    "execution": {
     "iopub.execute_input": "2024-09-22T12:33:18.435761Z",
     "iopub.status.busy": "2024-09-22T12:33:18.434674Z",
     "iopub.status.idle": "2024-09-22T12:33:18.451252Z",
     "shell.execute_reply": "2024-09-22T12:33:18.450262Z"
    },
    "papermill": {
     "duration": 0.037043,
     "end_time": "2024-09-22T12:33:18.453344",
     "exception": false,
     "start_time": "2024-09-22T12:33:18.416301",
     "status": "completed"
    },
    "tags": []
   },
   "outputs": [
    {
     "data": {
      "text/html": [
       "<div>\n",
       "<style scoped>\n",
       "    .dataframe tbody tr th:only-of-type {\n",
       "        vertical-align: middle;\n",
       "    }\n",
       "\n",
       "    .dataframe tbody tr th {\n",
       "        vertical-align: top;\n",
       "    }\n",
       "\n",
       "    .dataframe thead th {\n",
       "        text-align: right;\n",
       "    }\n",
       "</style>\n",
       "<table border=\"1\" class=\"dataframe\">\n",
       "  <thead>\n",
       "    <tr style=\"text-align: right;\">\n",
       "      <th></th>\n",
       "      <th>Area</th>\n",
       "      <th>Bedrooms</th>\n",
       "      <th>Bathrooms</th>\n",
       "      <th>Floors</th>\n",
       "      <th>YearBuilt</th>\n",
       "      <th>Location</th>\n",
       "      <th>Condition</th>\n",
       "      <th>Garage</th>\n",
       "      <th>Price</th>\n",
       "    </tr>\n",
       "  </thead>\n",
       "  <tbody>\n",
       "    <tr>\n",
       "      <th>405</th>\n",
       "      <td>-1.677611</td>\n",
       "      <td>-0.704581</td>\n",
       "      <td>-1.400273</td>\n",
       "      <td>1.244151</td>\n",
       "      <td>-0.123783</td>\n",
       "      <td>0.486403</td>\n",
       "      <td>0.460072</td>\n",
       "      <td>-0.962695</td>\n",
       "      <td>1.534157</td>\n",
       "    </tr>\n",
       "    <tr>\n",
       "      <th>1190</th>\n",
       "      <td>-0.322986</td>\n",
       "      <td>-1.406705</td>\n",
       "      <td>-1.400273</td>\n",
       "      <td>0.008035</td>\n",
       "      <td>0.405204</td>\n",
       "      <td>-0.393965</td>\n",
       "      <td>0.460072</td>\n",
       "      <td>1.038750</td>\n",
       "      <td>-1.398832</td>\n",
       "    </tr>\n",
       "    <tr>\n",
       "      <th>1132</th>\n",
       "      <td>1.678060</td>\n",
       "      <td>-1.406705</td>\n",
       "      <td>-1.400273</td>\n",
       "      <td>0.008035</td>\n",
       "      <td>-1.265281</td>\n",
       "      <td>0.486403</td>\n",
       "      <td>0.460072</td>\n",
       "      <td>1.038750</td>\n",
       "      <td>-1.664764</td>\n",
       "    </tr>\n",
       "    <tr>\n",
       "      <th>731</th>\n",
       "      <td>0.495659</td>\n",
       "      <td>-0.002457</td>\n",
       "      <td>0.403621</td>\n",
       "      <td>0.008035</td>\n",
       "      <td>-0.541404</td>\n",
       "      <td>-1.274332</td>\n",
       "      <td>0.460072</td>\n",
       "      <td>-0.962695</td>\n",
       "      <td>0.493640</td>\n",
       "    </tr>\n",
       "    <tr>\n",
       "      <th>1754</th>\n",
       "      <td>0.270918</td>\n",
       "      <td>-0.704581</td>\n",
       "      <td>-1.400273</td>\n",
       "      <td>1.244151</td>\n",
       "      <td>0.210314</td>\n",
       "      <td>-0.393965</td>\n",
       "      <td>0.460072</td>\n",
       "      <td>1.038750</td>\n",
       "      <td>-0.420502</td>\n",
       "    </tr>\n",
       "    <tr>\n",
       "      <th>...</th>\n",
       "      <td>...</td>\n",
       "      <td>...</td>\n",
       "      <td>...</td>\n",
       "      <td>...</td>\n",
       "      <td>...</td>\n",
       "      <td>...</td>\n",
       "      <td>...</td>\n",
       "      <td>...</td>\n",
       "      <td>...</td>\n",
       "    </tr>\n",
       "    <tr>\n",
       "      <th>638</th>\n",
       "      <td>-0.308312</td>\n",
       "      <td>0.699667</td>\n",
       "      <td>-0.498326</td>\n",
       "      <td>0.008035</td>\n",
       "      <td>-0.736294</td>\n",
       "      <td>0.486403</td>\n",
       "      <td>1.348241</td>\n",
       "      <td>1.038750</td>\n",
       "      <td>-0.504328</td>\n",
       "    </tr>\n",
       "    <tr>\n",
       "      <th>360</th>\n",
       "      <td>-0.016380</td>\n",
       "      <td>-0.002457</td>\n",
       "      <td>1.305568</td>\n",
       "      <td>-1.228081</td>\n",
       "      <td>0.711460</td>\n",
       "      <td>-0.393965</td>\n",
       "      <td>-1.316267</td>\n",
       "      <td>1.038750</td>\n",
       "      <td>-1.091211</td>\n",
       "    </tr>\n",
       "    <tr>\n",
       "      <th>1810</th>\n",
       "      <td>0.159706</td>\n",
       "      <td>-0.002457</td>\n",
       "      <td>1.305568</td>\n",
       "      <td>1.244151</td>\n",
       "      <td>-0.875501</td>\n",
       "      <td>-1.274332</td>\n",
       "      <td>1.348241</td>\n",
       "      <td>-0.962695</td>\n",
       "      <td>-1.150959</td>\n",
       "    </tr>\n",
       "    <tr>\n",
       "      <th>1743</th>\n",
       "      <td>0.689508</td>\n",
       "      <td>1.401791</td>\n",
       "      <td>-1.400273</td>\n",
       "      <td>1.244151</td>\n",
       "      <td>0.683618</td>\n",
       "      <td>-0.393965</td>\n",
       "      <td>-1.316267</td>\n",
       "      <td>1.038750</td>\n",
       "      <td>-0.671617</td>\n",
       "    </tr>\n",
       "    <tr>\n",
       "      <th>563</th>\n",
       "      <td>-0.071986</td>\n",
       "      <td>0.699667</td>\n",
       "      <td>-0.498326</td>\n",
       "      <td>0.008035</td>\n",
       "      <td>-0.680611</td>\n",
       "      <td>-0.393965</td>\n",
       "      <td>-0.428098</td>\n",
       "      <td>1.038750</td>\n",
       "      <td>-1.318759</td>\n",
       "    </tr>\n",
       "  </tbody>\n",
       "</table>\n",
       "<p>400 rows × 9 columns</p>\n",
       "</div>"
      ],
      "text/plain": [
       "          Area  Bedrooms  Bathrooms    Floors  YearBuilt  Location  Condition  \\\n",
       "405  -1.677611 -0.704581  -1.400273  1.244151  -0.123783  0.486403   0.460072   \n",
       "1190 -0.322986 -1.406705  -1.400273  0.008035   0.405204 -0.393965   0.460072   \n",
       "1132  1.678060 -1.406705  -1.400273  0.008035  -1.265281  0.486403   0.460072   \n",
       "731   0.495659 -0.002457   0.403621  0.008035  -0.541404 -1.274332   0.460072   \n",
       "1754  0.270918 -0.704581  -1.400273  1.244151   0.210314 -0.393965   0.460072   \n",
       "...        ...       ...        ...       ...        ...       ...        ...   \n",
       "638  -0.308312  0.699667  -0.498326  0.008035  -0.736294  0.486403   1.348241   \n",
       "360  -0.016380 -0.002457   1.305568 -1.228081   0.711460 -0.393965  -1.316267   \n",
       "1810  0.159706 -0.002457   1.305568  1.244151  -0.875501 -1.274332   1.348241   \n",
       "1743  0.689508  1.401791  -1.400273  1.244151   0.683618 -0.393965  -1.316267   \n",
       "563  -0.071986  0.699667  -0.498326  0.008035  -0.680611 -0.393965  -0.428098   \n",
       "\n",
       "        Garage     Price  \n",
       "405  -0.962695  1.534157  \n",
       "1190  1.038750 -1.398832  \n",
       "1132  1.038750 -1.664764  \n",
       "731  -0.962695  0.493640  \n",
       "1754  1.038750 -0.420502  \n",
       "...        ...       ...  \n",
       "638   1.038750 -0.504328  \n",
       "360   1.038750 -1.091211  \n",
       "1810 -0.962695 -1.150959  \n",
       "1743  1.038750 -0.671617  \n",
       "563   1.038750 -1.318759  \n",
       "\n",
       "[400 rows x 9 columns]"
      ]
     },
     "execution_count": 37,
     "metadata": {},
     "output_type": "execute_result"
    }
   ],
   "source": [
    "x_test"
   ]
  },
  {
   "cell_type": "code",
   "execution_count": 38,
   "id": "d030213c",
   "metadata": {
    "execution": {
     "iopub.execute_input": "2024-09-22T12:33:18.483703Z",
     "iopub.status.busy": "2024-09-22T12:33:18.482745Z",
     "iopub.status.idle": "2024-09-22T12:33:18.492602Z",
     "shell.execute_reply": "2024-09-22T12:33:18.491508Z"
    },
    "papermill": {
     "duration": 0.027414,
     "end_time": "2024-09-22T12:33:18.494844",
     "exception": false,
     "start_time": "2024-09-22T12:33:18.467430",
     "status": "completed"
    },
    "tags": []
   },
   "outputs": [
    {
     "name": "stderr",
     "output_type": "stream",
     "text": [
      "/opt/conda/lib/python3.10/site-packages/sklearn/base.py:439: UserWarning: X does not have valid feature names, but Lasso was fitted with feature names\n",
      "  warnings.warn(\n"
     ]
    },
    {
     "data": {
      "text/plain": [
       "array([961654.55763656])"
      ]
     },
     "execution_count": 38,
     "metadata": {},
     "output_type": "execute_result"
    }
   ],
   "source": [
    "Lasso_test.predict([[-1.677611,0.704581,-1.400273,1.244151,-0.123783,0.486403,0.460072,-0.962695,1.534157]])"
   ]
  },
  {
   "cell_type": "code",
   "execution_count": 39,
   "id": "cb150242",
   "metadata": {
    "execution": {
     "iopub.execute_input": "2024-09-22T12:33:18.524834Z",
     "iopub.status.busy": "2024-09-22T12:33:18.524430Z",
     "iopub.status.idle": "2024-09-22T12:33:18.531551Z",
     "shell.execute_reply": "2024-09-22T12:33:18.530605Z"
    },
    "papermill": {
     "duration": 0.024658,
     "end_time": "2024-09-22T12:33:18.533639",
     "exception": false,
     "start_time": "2024-09-22T12:33:18.508981",
     "status": "completed"
    },
    "tags": []
   },
   "outputs": [
    {
     "data": {
      "text/plain": [
       "405     961656\n",
       "1190    151096\n",
       "1132     77603\n",
       "731     674099\n",
       "1754    421467\n",
       "Name: Price, dtype: int64"
      ]
     },
     "execution_count": 39,
     "metadata": {},
     "output_type": "execute_result"
    }
   ],
   "source": [
    "y_test.head()"
   ]
  },
  {
   "cell_type": "code",
   "execution_count": null,
   "id": "195ed5bc",
   "metadata": {
    "papermill": {
     "duration": 0.013803,
     "end_time": "2024-09-22T12:33:18.561696",
     "exception": false,
     "start_time": "2024-09-22T12:33:18.547893",
     "status": "completed"
    },
    "tags": []
   },
   "outputs": [],
   "source": []
  }
 ],
 "metadata": {
  "kaggle": {
   "accelerator": "none",
   "dataSources": [
    {
     "datasetId": 5744880,
     "sourceId": 9451387,
     "sourceType": "datasetVersion"
    }
   ],
   "dockerImageVersionId": 30761,
   "isGpuEnabled": false,
   "isInternetEnabled": true,
   "language": "python",
   "sourceType": "notebook"
  },
  "kernelspec": {
   "display_name": "Python 3",
   "language": "python",
   "name": "python3"
  },
  "language_info": {
   "codemirror_mode": {
    "name": "ipython",
    "version": 3
   },
   "file_extension": ".py",
   "mimetype": "text/x-python",
   "name": "python",
   "nbconvert_exporter": "python",
   "pygments_lexer": "ipython3",
   "version": "3.10.14"
  },
  "papermill": {
   "default_parameters": {},
   "duration": 8.638179,
   "end_time": "2024-09-22T12:33:19.195790",
   "environment_variables": {},
   "exception": null,
   "input_path": "__notebook__.ipynb",
   "output_path": "__notebook__.ipynb",
   "parameters": {},
   "start_time": "2024-09-22T12:33:10.557611",
   "version": "2.6.0"
  }
 },
 "nbformat": 4,
 "nbformat_minor": 5
}
